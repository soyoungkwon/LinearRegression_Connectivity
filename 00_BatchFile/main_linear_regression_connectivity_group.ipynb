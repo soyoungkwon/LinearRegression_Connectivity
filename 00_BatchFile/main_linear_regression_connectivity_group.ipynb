{
 "cells": [
  {
   "cell_type": "markdown",
   "metadata": {},
   "source": [
    "# Aim\n",
    "A linear regression analysis is applied to check whether visual network (VIS) and Dorsal Attention Network (DAN) or Default Mode Network (DMN) are hierarchically connected to each other.\n",
    "# Data analysis order\n",
    "1. Load all the data (connectivity during attention and resting) : connAtten, connRest\n",
    "2. Extract only necessary part of the data and reorganize it\n",
    " (connectivity between DAN-VIS, DMN-VIS)\n",
    "3. Linear regression fit : gain, base will be obtained\n",
    "4. Visualize the Linear Regression plot\n",
    "5. Visualize the Gain, Base (as a bar plot)"
   ]
  },
  {
   "cell_type": "code",
   "execution_count": 1,
   "metadata": {},
   "outputs": [],
   "source": [
    "# load libraries (python2)\n",
    "import pandas as pd\n",
    "import scipy \n",
    "from scipy import mean\n",
    "from scipy.stats import sem, t\n",
    "import numpy as np\n",
    "import scipy.io as sio\n",
    "import os\n",
    "import fnmatch, re\n",
    "import glob\n",
    "import matplotlib.pyplot as plt\n",
    "from sklearn.linear_model import LinearRegression"
   ]
  },
  {
   "cell_type": "markdown",
   "metadata": {},
   "source": [
    "# Define Basic"
   ]
  },
  {
   "cell_type": "code",
   "execution_count": 2,
   "metadata": {},
   "outputs": [],
   "source": [
    "# Define basie parameters\n",
    "n_roi = 24; n_subj = 20\n",
    "\n",
    "# V1, V2, V3, V4, V5, FEF, IPS, MFC, PCC\n",
    "combI =  [[0,1],[2,3],[4,5],[6],[7],[8],[9],[10],[11]]\n",
    "conds = ['corrAtten', 'corrRest']\n",
    "hemis = ['L', 'R']\n",
    "n_vis = 5; n_dxn = 4; n_hemi = 2; n_subj = 20\n",
    "n_comb = len(combI)\n",
    "n_conds = len(conds)\n",
    "\n",
    "# Directory setup\n",
    "dir_main = '/Users/soyoung/Python_Stimulus/LinearRegression_Connectivity/'\n",
    "dir_connectivity = dir_main + \"/01_DataConnectivity/\"\n",
    "\n",
    "# dir_main = \"/Volumes/SoyoungBackup/Mac_HD3/Atten_Motion_OnOff/LinearRegression_Connectivity/\"\n",
    "# dir_connectivity = dir_main + \"/01_DataConnectivity/\"\n",
    " \n",
    "prefix = \"Conn_rand32_craf_regMotionWM_highnone_low0_P_shift20_regMeanSubjVox_sub\"\n",
    "filetype = prefix + \"*[!wrong][!retino].mat\""
   ]
  },
  {
   "cell_type": "markdown",
   "metadata": {},
   "source": [
    "# 1. Load the data"
   ]
  },
  {
   "cell_type": "code",
   "execution_count": 3,
   "metadata": {},
   "outputs": [],
   "source": [
    "# load connectivity data : conn_group['atten','rest'](n_roi, n_roi, all_subj)\n",
    "conn_group = {}\n",
    "def load_data_group(dir_connectivity, filetype):#, cond):\n",
    "    # Load the file list\n",
    "    conn_list = [f for f in glob.glob(dir_connectivity + filetype)]\n",
    "    \n",
    "    # Predefine group data and assign it\n",
    "    for c in range(n_conds):\n",
    "        conn_group[conds[c]] = np.zeros([n_roi, n_roi, n_subj])\n",
    "        for s in range(n_subj):\n",
    "            conn_subj = sio.loadmat(conn_list[s])\n",
    "            conn_group[conds[c]][:,:,s] = np.mean(conn_subj[conds[c]], axis = 2)\n",
    "    return conn_group"
   ]
  },
  {
   "cell_type": "code",
   "execution_count": 4,
   "metadata": {},
   "outputs": [],
   "source": [
    "conn_group = load_data_group(dir_connectivity, filetype)"
   ]
  },
  {
   "cell_type": "markdown",
   "metadata": {},
   "source": [
    "# 2. Extract & reorganize data\n",
    "1. Extract Left, Right Data => L-L, L-R, R-R, R-L\n",
    "2. Extract DAN-VIS, DMN-VIS"
   ]
  },
  {
   "cell_type": "code",
   "execution_count": 5,
   "metadata": {},
   "outputs": [],
   "source": [
    "# Data combine: dataROIcomb['corrAttenL(R)', 'corrRestL(R)'](n_comb, n_comb, all_subj)\n",
    "# n_roi -> n_roi/2 -> 9 ROIs\n",
    "# Reshape into one hemi only (n_roi,n_roi,all_subj) ==> (n_roi/2, n_roi/2, all_subj)\n",
    "# Combine different ROIs : V1d, V1v ==> V1 (9, 9, all_subj)\n",
    "dataROIcomb = {}\n",
    "def data_reorg_LR_comb(data_both):#, condName, hemi):\n",
    "    for hemi in hemis:\n",
    "        for c in conds:\n",
    "            # predefine result, get the input\n",
    "            dataROIcomb[c + hemi] = np.zeros([n_comb, n_comb, n_subj])\n",
    "            data_cond = data_both[c]\n",
    "\n",
    "            # DAN hemisphere (L : odd, R: even)\n",
    "#             [n_roi, n_roi, n_subj] = data_cond.shape\n",
    "            if hemi == 'L': oddeven = 0\n",
    "            elif hemi == 'R': oddeven = 1\n",
    "            data_half_test = data_cond[list(range(oddeven, n_roi, 2)), :, :] # DAN hemi (input)\n",
    "            data_half_XL   = data_half_test[:, list(range(0, n_roi, 2)), :] # VIS hemi(L)\n",
    "            data_half_XR   = data_half_test[:, list(range(1, n_roi, 2)), :] # VIS hemi(R)\n",
    "\n",
    "            # combine LL+LR\n",
    "            dataLR = np.zeros([n_roi/2, n_roi/2, n_subj, 2])\n",
    "            dataLR[:,:,:,0] = data_half_XL; dataLR[:,:,:,1] = data_half_XR;\n",
    "            dataLR = np.mean(dataLR, axis=3)  \n",
    "\n",
    "            # combine different ROIs\n",
    "            # V1d, V1v = > V1\n",
    "#             dataROIcomb = {(condName + hemi): np.zeros([n_comb, n_comb, n_subj])}\n",
    "            for x in range(n_comb):\n",
    "                for y in range(n_comb):\n",
    "                    dataROIcomb_temp = np.mean(dataLR[:, combI[y], :], axis = 1)\n",
    "                    dataROIcomb[(c + hemi)][x,y,:] = np.mean(dataROIcomb_temp[combI[x], :], axis =0)\n",
    "    return dataROIcomb"
   ]
  },
  {
   "cell_type": "code",
   "execution_count": 6,
   "metadata": {},
   "outputs": [],
   "source": [
    "# Extract DAN (or DMN) - VIS only\n",
    "# DAN(DMN)-VIS (FEF,IPS,PCC,MFC- V1,V2,V3,V4,V5/MT) ==> (4,5,all_subj)\n",
    "DXN_VIS = {}\n",
    "def data_dxn_only(dataROIcomb):\n",
    "    for hemi in hemis:\n",
    "        for c in conds:\n",
    "            # preassign result\n",
    "            DXN_VIS[c + hemi] = np.zeros([n_dxn, n_vis, n_subj])\n",
    "            data_cond = dataROIcomb[c + hemi]\n",
    "            \n",
    "            # only extract vis Index, DXN index\n",
    "            All_VIS = data_cond[ :, np.arange(n_vis), :]\n",
    "            DXN_VIS[c + hemi] = All_VIS[n_vis + np.arange(n_dxn), :, :]\n",
    "    return DXN_VIS"
   ]
  },
  {
   "cell_type": "code",
   "execution_count": 7,
   "metadata": {},
   "outputs": [
    {
     "data": {
      "text/plain": [
       "(4, 5, 20)"
      ]
     },
     "execution_count": 7,
     "metadata": {},
     "output_type": "execute_result"
    }
   ],
   "source": [
    "# Extract DATA\n",
    "datacomb = data_reorg_LR_comb(conn_group)#, 'L')\n",
    "DXN_VIS = data_dxn_only(datacomb)\n",
    "DXN_VIS['corrRestL'].shape"
   ]
  },
  {
   "cell_type": "markdown",
   "metadata": {},
   "source": [
    "# 3. Linear Regression"
   ]
  },
  {
   "cell_type": "code",
   "execution_count": 8,
   "metadata": {},
   "outputs": [],
   "source": [
    "# Linear regression in each subject\n",
    "DXN_Name = ['FEF','IPS','MFC','PCC']\n",
    "X = pd.DataFrame(np.arange(5))\n",
    "Y = DXN_VIS#['corrRestL']"
   ]
  },
  {
   "cell_type": "code",
   "execution_count": 9,
   "metadata": {},
   "outputs": [],
   "source": [
    "# linear_result['Gain', 'Base', 'Fitted Y']\n",
    "linear_result = {}\n",
    "def linear_regression(X, Y, DXN_Name):   \n",
    "    for hemi in hemis:\n",
    "        for c in conds:\n",
    "            # preassign result\n",
    "            linear_result['Gain ' + c + hemi] = np.zeros([n_subj, n_dxn])\n",
    "            linear_result['Base ' + c + hemi] = np.zeros([n_subj, n_dxn])\n",
    "            linear_result['Fitted Y ' + c + hemi] = np.zeros([n_subj, n_dxn, n_vis])\n",
    "            for dxn in range(4):\n",
    "                for s in range(n_subj):\n",
    "                    Y_pd = pd.DataFrame(Y[c + hemi][dxn, :, s])\n",
    "                    lr = LinearRegression()#(normalize=True)\n",
    "                    lr.fit(X, Y_pd)\n",
    "                    pred_Y = lr.predict(X)\n",
    "                    linear_result['Fitted Y ' + c + hemi][s,dxn,0:n_vis] = pred_Y[:,0]\n",
    "                    linear_result['Gain ' + c + hemi][s,dxn] = lr.coef_  \n",
    "                    linear_result['Base '+ c + hemi][s,dxn] = lr.intercept_\n",
    "    return linear_result"
   ]
  },
  {
   "cell_type": "code",
   "execution_count": 10,
   "metadata": {},
   "outputs": [],
   "source": [
    "# combine L + R\n",
    "# for hemi in hemis\n",
    "linear_LR = linear_regression(X, Y, DXN_Name)\n",
    "g={}; b={};\n",
    "def comb_linear_regress(gain_base):\n",
    "    for c in range(len(conds)):\n",
    "        # predefine result\n",
    "        g[conds[c]] = np.zeros([n_subj, n_dxn*2]);\n",
    "        b[conds[c]] = np.zeros([n_subj, n_dxn*2]);\n",
    "        # gain, base\n",
    "        g[conds[c]][ :,list(range(0,8,2))]=gain_base['Gain ' + conds[c] + 'L']\n",
    "        g[conds[c]][ :,list(range(1,8,2))]=gain_base['Gain ' + conds[c] + 'R']\n",
    "        b[conds[c]][ :,list(range(0,8,2))]=gain_base['Base ' + conds[c] + 'L']\n",
    "        b[conds[c]][ :,list(range(1,8,2))]=gain_base['Base ' + conds[c] + 'R']\n",
    "    return g, b"
   ]
  },
  {
   "cell_type": "code",
   "execution_count": 11,
   "metadata": {},
   "outputs": [],
   "source": [
    "# combine L+R linear regression\n",
    "[g,b] = comb_linear_regress(linear_LR)\n",
    "\n",
    "# only difference\n",
    "gain_diff = g['corrAtten']-g['corrRest']\n",
    "base_diff = b['corrAtten']-b['corrRest']\n",
    "dxnI = np.arange(8)\n",
    "danI = dxnI[0:4]"
   ]
  },
  {
   "cell_type": "markdown",
   "metadata": {},
   "source": [
    "# 5. Visualize Gain, Base (diff)"
   ]
  },
  {
   "cell_type": "code",
   "execution_count": 12,
   "metadata": {},
   "outputs": [
    {
     "data": {
      "image/png": "[encoded data removed]",
      "text/plain": [
       "<matplotlib.figure.Figure at 0x11caf5450>"
      ]
     },
     "metadata": {
      "needs_background": "light"
     },
     "output_type": "display_data"
    }
   ],
   "source": [
    "# plot DAN-VIS only\n",
    "\n",
    "fig = plt.figure(figsize=(8,3))\n",
    "plt.subplot(1,2,1); plt.title('Gain')\n",
    "plt.bar(np.arange(4), np.mean(gain_diff[:,danI], axis=0),\\\n",
    "        yerr=scipy.stats.sem(gain_diff[:,danI]), capsize=3, color='grey', width = 0.5); \n",
    "plt.axhline(0, color='black', linewidth = 0.3)\n",
    "plt.ylim(-0.15, 0.15)\n",
    "\n",
    "plt.subplot(1,2,2); plt.title('Base')\n",
    "plt.bar(np.arange(4), np.mean(base_diff[:,danI], axis=0), \\\n",
    "        yerr=scipy.stats.sem(base_diff[:,danI]), capsize=3, color='grey', width = 0.5); \n",
    "plt.axhline(0, color='black', linewidth = 0.3)\n",
    "plt.ylim(-0.15, 0.15)\n",
    "plt.show()"
   ]
  },
  {
   "cell_type": "code",
   "execution_count": 13,
   "metadata": {},
   "outputs": [
    {
     "data": {
      "image/png": "[encoded data removed]",
      "text/plain": [
       "<matplotlib.figure.Figure at 0x11cae9750>"
      ]
     },
     "metadata": {
      "needs_background": "light"
     },
     "output_type": "display_data"
    }
   ],
   "source": [
    "# plot DMN-VIS only\n",
    "dmnI = dxnI[4:]\n",
    "fig = plt.figure(figsize=(8,3))\n",
    "\n",
    "plt.subplot(1,2,1); plt.title('Gain')\n",
    "plt.bar(np.arange(4), np.mean(gain_diff[:,dmnI], axis=0),\\\n",
    "        yerr=scipy.stats.sem(gain_diff[:,dmnI]), capsize=3, color='grey', width = 0.5); \n",
    "plt.axhline(0, color='black', linewidth = 0.3)\n",
    "plt.ylim(-0.15, 0.15)\n",
    "\n",
    "plt.subplot(1,2,2); plt.title('Base')\n",
    "plt.bar(np.arange(4), np.mean(base_diff[:,dmnI], axis=0), \\\n",
    "        yerr=scipy.stats.sem(base_diff[:,dmnI]), capsize=3, color='grey', width = 0.5); \n",
    "plt.axhline(0, color='black', linewidth = 0.3)\n",
    "plt.ylim(-0.15, 0.15)\n",
    "plt.show()\n"
   ]
  },
  {
   "cell_type": "code",
   "execution_count": 30,
   "metadata": {},
   "outputs": [
    {
     "data": {
      "image/png": "[encoded data removed]",
      "text/plain": [
       "<matplotlib.figure.Figure at 0x11f1a3550>"
      ]
     },
     "metadata": {
      "needs_background": "light"
     },
     "output_type": "display_data"
    }
   ],
   "source": [
    "fig = plt.figure(figsize=(10,3))\n",
    "x= np.arange(5)\n",
    "for d in range(2): # FEF/IPS\n",
    "    for h in range(len(hemis)): # L/R\n",
    "        # one hemi\n",
    "        # atten\n",
    "        fit_atten = linear_result['Fitted Y corrAtten' + hemis[h]][:,d,:]\n",
    "        mean_atten = mean(fit_atten, axis=0)\n",
    "        std_atten = scipy.stats.sem(fit_atten, axis=0)\n",
    "\n",
    "        # rest\n",
    "        fit_rest = linear_result['Fitted Y corrRest' + hemis[h]][:,d,:]\n",
    "        mean_rest = mean(fit_rest, axis=0)\n",
    "        std_rest = scipy.stats.sem(fit_rest, axis=0)\n",
    "\n",
    "        plt.subplot(1,4,h+1+2*d); plt.title('Gain')\n",
    "        plt.plot(x, mean_atten, 'r--')\n",
    "        plt.fill_between(x, mean_atten-std_atten, mean_atten+std_atten, alpha =0.3, color = 'r')\n",
    "        plt.plot(x, mean_rest, 'b--')\n",
    "        plt.fill_between(x, mean_rest-std_rest, mean_rest+std_rest, alpha =0.3, color = 'b')\n",
    "        plt.axhline(0, color='k', linestyle = '--', linewidth = 1)        \n",
    "        plt.ylim(-0.1, 0.4)\n",
    "plt.show()"
   ]
  },
  {
   "cell_type": "code",
   "execution_count": 29,
   "metadata": {},
   "outputs": [
    {
     "data": {
      "image/png": "[encoded data removed]",
      "text/plain": [
       "<matplotlib.figure.Figure at 0x11f341350>"
      ]
     },
     "metadata": {
      "needs_background": "light"
     },
     "output_type": "display_data"
    }
   ],
   "source": [
    "fig = plt.figure(figsize=(10,3))\n",
    "x= np.arange(5)\n",
    "for d in range(2,4,1): # FEF/IPS\n",
    "    for h in range(len(hemis)): # L/R\n",
    "        # one hemi\n",
    "        # atten\n",
    "        fit_atten = linear_result['Fitted Y corrAtten' + hemis[h]][:,d,:]\n",
    "        mean_atten = mean(fit_atten, axis=0)\n",
    "        std_atten = scipy.stats.sem(fit_atten, axis=0)\n",
    "\n",
    "        # rest\n",
    "        fit_rest = linear_result['Fitted Y corrRest' + hemis[h]][:,d,:]\n",
    "        mean_rest = mean(fit_rest, axis=0)\n",
    "        std_rest = scipy.stats.sem(fit_rest, axis=0)\n",
    "\n",
    "        plt.subplot(1,4,h+1+2*(d-2)); plt.title('Gain')\n",
    "        plt.plot(x, mean_atten, 'r--')\n",
    "        plt.fill_between(x, mean_atten-std_atten, mean_atten+std_atten, alpha =0.3, color = 'r')\n",
    "        plt.plot(x, mean_rest, 'b--')\n",
    "        plt.fill_between(x, mean_rest-std_rest, mean_rest+std_rest, alpha =0.3, color = 'b')\n",
    "        plt.axhline(0, color='k', linestyle = '--', linewidth = 1)\n",
    "        plt.ylim(-0.4, 0.1)\n",
    "plt.show()"
   ]
  },
  {
   "cell_type": "code",
   "execution_count": 18,
   "metadata": {},
   "outputs": [
    {
     "data": {
      "text/plain": [
       "(20, 4, 5)"
      ]
     },
     "execution_count": 18,
     "metadata": {},
     "output_type": "execute_result"
    }
   ],
   "source": [
    "linear_result['Fitted Y corrAtten' + hemis[h]].shape"
   ]
  },
  {
   "cell_type": "code",
   "execution_count": null,
   "metadata": {},
   "outputs": [],
   "source": []
  }
 ],
 "metadata": {
  "kernelspec": {
   "display_name": "Python 2",
   "language": "python",
   "name": "python2"
  },
  "language_info": {
   "codemirror_mode": {
    "name": "ipython",
    "version": 2
   },
   "file_extension": ".py",
   "mimetype": "text/x-python",
   "name": "python",
   "nbconvert_exporter": "python",
   "pygments_lexer": "ipython2",
   "version": "2.7.14"
  }
 },
 "nbformat": 4,
 "nbformat_minor": 2
}
