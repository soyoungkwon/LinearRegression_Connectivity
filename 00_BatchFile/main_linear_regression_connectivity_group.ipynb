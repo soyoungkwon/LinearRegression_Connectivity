{
 "cells": [
  {
   "cell_type": "markdown",
   "metadata": {},
   "source": [
    "# Aim\n",
    "A linear regression analysis is applied to check whether visual network (VIS) and Dorsal Attention Network (DAN) or Default Mode Network (DMN) are hierarchically connected to each other.\n",
    "# Data analysis order\n",
    "1. Load all the data (connectivity during attention and resting) : connAtten, connRest\n",
    "2. Extract only necessary part of the data and reorganize it\n",
    " (connectivity between DAN-VIS, DMN-VIS)\n",
    "3. Linear regression fit : gain, base will be obtained\n",
    "4. Visualize the Linear Regression plot\n",
    "5. Visualize the Gain, Base (as a bar plot)"
   ]
  },
  {
   "cell_type": "code",
   "execution_count": null,
   "metadata": {},
   "outputs": [],
   "source": [
    "# load libraries (python2)\n",
    "import pandas as pd\n",
    "import scipy \n",
    "from scipy import mean\n",
    "from scipy.stats import sem, t\n",
    "import numpy as np\n",
    "import scipy.io as sio\n",
    "import glob\n",
    "import matplotlib.pyplot as plt\n",
    "from sklearn.linear_model import LinearRegression\n",
    "import pylab"
   ]
  },
  {
   "cell_type": "markdown",
   "metadata": {},
   "source": [
    "# Define Basic"
   ]
  },
  {
   "cell_type": "code",
   "execution_count": null,
   "metadata": {},
   "outputs": [],
   "source": [
    "# Define basie parameters\n",
    "n_roi = 24; n_subj = 20\n",
    "\n",
    "# V1, V2, V3, V4, V5, FEF, IPS, MFC, PCC\n",
    "all_indx =  [[0,1],[2,3],[4,5],[6],[7],[8],[9],[10],[11]]\n",
    "conds = ['corrAtten', 'corrRest']\n",
    "hemis = ['L', 'R']\n",
    "DXN_Name = ['FEF','IPS','LP','MFC']\n",
    "colors = ['r','b']\n",
    "fit_param = ['Gain', 'Base']\n",
    "n_vis = 5; n_dxn = 4; \n",
    "n_conds = len(conds); n_hemi = len(hemis); n_comb = len(all_indx); \n",
    "yrange = [-0.1, 0.4]\n",
    "\n",
    "# Linear Regression X, Y[dxnI]\n",
    "x = np.arange(n_vis)\n",
    "dxn_LR_indx = np.arange(n_dxn*2) # FEFL, FEFR, IPSL, IPSR, LPL, LPR, MFC, PCC\n",
    "\n",
    "# Directory setup\n",
    "# dir_main = '/Users/soyoung/Python_Stimulus/LinearRegression_Connectivity/'\n",
    "# dir_connectivity = dir_main + \"/01_DataConnectivity/\"\n",
    "\n",
    "dir_main = \"/Volumes/SoyoungBackup/Mac_HD3/Atten_Motion_OnOff/LinearRegression_Connectivity/\"\n",
    "dir_connectivity = dir_main + \"/01_DataConnectivity/\"\n",
    " \n",
    "prefix = \"Conn_rand32_craf_regMotionWM_highnone_low0_P_shift20_regMeanSubjVox_sub\"\n",
    "filetype = prefix + \"*[!wrong][!retino].mat\""
   ]
  },
  {
   "cell_type": "markdown",
   "metadata": {},
   "source": [
    "# 1. Load the data"
   ]
  },
  {
   "cell_type": "code",
   "execution_count": null,
   "metadata": {},
   "outputs": [],
   "source": [
    "# load connectivity data : conn_group['atten','rest'](n_roi, n_roi, all_subj)\n",
    "def load_data_group(dir_connectivity, filetype):#, cond):\n",
    "    conn_group = {}\n",
    "    # Load the file list\n",
    "    conn_list = [f for f in glob.glob(dir_connectivity + filetype)]\n",
    "    \n",
    "    # Predefine group data and assign it\n",
    "    for c in range(n_conds):\n",
    "        conn_group[conds[c]] = np.zeros([n_roi, n_roi, n_subj])\n",
    "        for s in range(n_subj):\n",
    "            conn_subj = sio.loadmat(conn_list[s])\n",
    "            conn_group[conds[c]][:,:,s] = np.mean(conn_subj[conds[c]], axis = 2)\n",
    "    return conn_group"
   ]
  },
  {
   "cell_type": "markdown",
   "metadata": {},
   "source": [
    "# 2. Extract & reorganize data\n",
    "1. Extract Left, Right Data => L-L, L-R, R-R, R-L\n",
    "2. Extract DAN-VIS, DMN-VIS"
   ]
  },
  {
   "cell_type": "code",
   "execution_count": null,
   "metadata": {},
   "outputs": [],
   "source": [
    "# Data combine: dataROIcomb['corrAttenL(R)', 'corrRestL(R)'](n_comb, n_comb, all_subj)\n",
    "# n_roi -> n_roi/2 -> 9 ROIs\n",
    "# Reshape into one hemi only (n_roi,n_roi,all_subj) ==> (n_roi/2, n_roi/2, all_subj)\n",
    "# Combine different ROIs : V1d, V1v ==> V1 (9, 9, all_subj)\n",
    "def data_reorg_LR_comb(data_both):#, condName, hemi):\n",
    "    dataROIcomb = {}\n",
    "    for hemi in hemis:\n",
    "        for c in conds:\n",
    "            # predefine result, get the input\n",
    "            dataROIcomb[c + hemi] = np.zeros([n_comb, n_comb, n_subj])\n",
    "            data_cond = data_both[c]\n",
    "\n",
    "            # DAN hemisphere (L : odd, R: even)\n",
    "            if hemi == 'L': oddeven = 0\n",
    "            elif hemi == 'R': oddeven = 1\n",
    "            data_half_test = data_cond[list(range(oddeven, n_roi, 2)), :, :] # DAN hemi (input)\n",
    "            data_half_XL   = data_half_test[:, list(range(0, n_roi, 2)), :] # VIS hemi(L)\n",
    "            data_half_XR   = data_half_test[:, list(range(1, n_roi, 2)), :] # VIS hemi(R)\n",
    "\n",
    "            # combine LL+LR\n",
    "            dataLR = np.zeros([n_roi/2, n_roi/2, n_subj, 2])\n",
    "            dataLR[:,:,:,0] = data_half_XL; dataLR[:,:,:,1] = data_half_XR;\n",
    "            dataLR = np.mean(dataLR, axis=3)  \n",
    "\n",
    "            # combine different ROIs\n",
    "            # V1d, V1v = > V1\n",
    "            for x in range(n_comb):\n",
    "                for y in range(n_comb):\n",
    "                    dataROIcomb_temp = np.mean(dataLR[:, all_indx[y], :], axis = 1)\n",
    "                    dataROIcomb[(c + hemi)][x,y,:] = np.mean(dataROIcomb_temp[all_indx[x], :], axis =0)\n",
    "    return dataROIcomb"
   ]
  },
  {
   "cell_type": "code",
   "execution_count": null,
   "metadata": {},
   "outputs": [],
   "source": [
    "# Extract DAN (or DMN) - VIS only\n",
    "# DAN(DMN)-VIS (FEF,IPS,PCC,MFC- V1,V2,V3,V4,V5/MT) ==> (4,5,all_subj)\n",
    "def data_dxn_only(dataROIcomb):\n",
    "    DXN_VIS = {}\n",
    "    for hemi in hemis:\n",
    "        for c in conds:\n",
    "            # preassign result\n",
    "            DXN_VIS[c + hemi] = np.zeros([n_dxn, n_vis, n_subj])\n",
    "            data_cond = dataROIcomb[c + hemi]\n",
    "            \n",
    "            # only extract vis Index, DXN index\n",
    "            All_VIS = data_cond[ :, np.arange(n_vis), :]\n",
    "            DXN_VIS[c + hemi] = All_VIS[n_vis + np.arange(n_dxn), :, :]\n",
    "    return DXN_VIS"
   ]
  },
  {
   "cell_type": "markdown",
   "metadata": {},
   "source": [
    "# 3. Linear Regression\n",
    " 1. linear fit => Gain, Base, Fitted Y\n",
    " 2. Gain, Base (L+R combine)"
   ]
  },
  {
   "cell_type": "code",
   "execution_count": null,
   "metadata": {},
   "outputs": [],
   "source": [
    "# fit_result['Gain', 'Base', 'Fitted Y']\n",
    "def linear_regression(X, Y, DXN_Name):   \n",
    "    fit_result = {}\n",
    "    for hemi in hemis:\n",
    "        for c in conds:\n",
    "            # preassign result\n",
    "            fit_result['Gain ' + c + hemi] = np.zeros([n_subj, n_dxn])\n",
    "            fit_result['Base ' + c + hemi] = np.zeros([n_subj, n_dxn])\n",
    "            fit_result['Fitted Y ' + c + hemi] = np.zeros([n_subj, n_dxn, n_vis])\n",
    "            \n",
    "            # assign result\n",
    "            for dxn in range(n_dxn):\n",
    "                for s in range(n_subj):\n",
    "                    Y_pd = pd.DataFrame(Y[c + hemi][dxn, :, s]) # to make pd for linearReg\n",
    "                    \n",
    "                    # Fit \n",
    "                    lr = LinearRegression()#(normalize=True)\n",
    "                    lr.fit(X, Y_pd)\n",
    "                    pred_Y = lr.predict(X)\n",
    "                    fit_result['Fitted Y ' + c + hemi][s,dxn,0:n_vis] = pred_Y[:,0] # only pred_y value\n",
    "                    fit_result['Gain ' + c + hemi][s,dxn] = lr.coef_  \n",
    "                    fit_result['Base '+ c + hemi][s,dxn] = lr.intercept_\n",
    "    return fit_result"
   ]
  },
  {
   "cell_type": "code",
   "execution_count": null,
   "metadata": {},
   "outputs": [],
   "source": [
    "# fit_result => gain, base (L+R comb)\n",
    "def combine_linear_regress(fit_result):\n",
    "    gain={}; base={};\n",
    "    for c in range(len(conds)):\n",
    "        gain[conds[c]] = np.zeros([n_subj, n_dxn*2]);\n",
    "        base[conds[c]] = np.zeros([n_subj, n_dxn*2]);\n",
    "        \n",
    "        # Gain, Base : combine L + R\n",
    "        gain[conds[c]][: ,list(range(0,8,2))] = fit_result['Gain ' + conds[c] + 'L']\n",
    "        gain[conds[c]][: ,list(range(1,8,2))] = fit_result['Gain ' + conds[c] + 'R']\n",
    "        base[conds[c]][: ,list(range(0,8,2))] = fit_result['Base ' + conds[c] + 'L']\n",
    "        base[conds[c]][: ,list(range(1,8,2))] = fit_result['Base ' + conds[c] + 'R']\n",
    "    return gain, base"
   ]
  },
  {
   "cell_type": "markdown",
   "metadata": {},
   "source": [
    "# 4. Visualize the Linear Regression plot"
   ]
  },
  {
   "cell_type": "code",
   "execution_count": null,
   "metadata": {},
   "outputs": [],
   "source": [
    "# Linear Fit (DAN - VIS)\n",
    "def plt_linear_fit(x, fit_result, indx, fig_name): # indx --> which dxn\n",
    "    fig = plt.figure(figsize=(8,3))\n",
    "    # preassign result\n",
    "    fit = {}; mean_y = {}; sem_y = {}\n",
    "    for d in range(indx/2, (indx+n_dxn)/2, 1): # FEF/IPS/LP/CC\n",
    "        for h in range(len(hemis)): # L/R\n",
    "            roi_nr = (d%2)*2+h+1\n",
    "            plt.subplot(1,4,roi_nr); roi_name = (DXN_Name[d] + hemis[h])\n",
    "            plt.title(roi_name)\n",
    "            for c in range(len(conds)): # Atten/Rest\n",
    "                fit[conds[c] + roi_name] = linear_result['Fitted Y ' + conds[c] + hemis[h]][ :, d, :]\n",
    "                mean_y[conds[c] + roi_name] = mean(fit[conds[c] + roi_name], axis = 0)\n",
    "                sem_y[conds[c] + roi_name] = sem(fit[conds[c] + roi_name], axis = 0)\n",
    "            \n",
    "                # plot parameter: DAN vs DMN, Rest vs Atten\n",
    "                if d/2 < 1: yrange = [-0.1, 0.4] # DAN\n",
    "                else: yrange = [-0.4, 0.1] # DMN\n",
    "\n",
    "                # plot mean + SEM\n",
    "                plt.plot(x, mean_y[conds[c] + roi_name], colors[c] + '--')\n",
    "                mean_min_sem = mean_y[conds[c] + roi_name]-sem_y[conds[c] + roi_name]\n",
    "                mean_add_sem = mean_y[conds[c] + roi_name]+sem_y[conds[c] + roi_name]\n",
    "                plt.fill_between(x, mean_min_sem, mean_add_sem, color = colors[c], alpha =0.3)\n",
    "                plt.axhline(0, color='k', linestyle = '--', linewidth = 1)        \n",
    "                plt.ylim(yrange[0], yrange[1])\n",
    "    fig.set_rasterized(True)    \n",
    "    plt.show() \n",
    "#     fig.savefig(fig_name, rasterized = True)\n",
    "    return mean_y, sem_y, fit                "
   ]
  },
  {
   "cell_type": "code",
   "execution_count": null,
   "metadata": {},
   "outputs": [],
   "source": [
    "def plt_mean_ci(x, Y, fit, mean_y, sem_y, indx, fig_name):\n",
    "    fig = plt.figure(figsize=(8,3))\n",
    "    for d in range(indx/2, (indx+n_dxn)/2, 1):\n",
    "        for h in range(len(hemis)):\n",
    "            roi_nr = (d%2)*2+h+1; roi_name = (DXN_Name[d] + hemis[h])\n",
    "            plt.subplot(1,4,roi_nr)\n",
    "            plt.title(roi_name)\n",
    "            for c in range(len(conds)): # Atten/Rest\n",
    "                real_y = mean(Y[conds[c] + hemis[h]][d, :, :], axis = 1)\n",
    "                \n",
    "                # plot linear line\n",
    "                plt.plot(x, mean_y[conds[c] + roi_name], colors[c] + '--')\n",
    "                \n",
    "                # plot mean, SEM\n",
    "                plt.errorbar(x, real_y, yerr = sem_y[conds[c] + roi_name], color = colors[c], linestyle = '')\n",
    "                plt.axhline(0, color='k', linestyle = '--', linewidth = 1)       \n",
    "                if indx == 0: ymin = yrange[0]; ymax = yrange[1]\n",
    "                else: ymin = -yrange[1]; ymax = -yrange[0]\n",
    "                plt.ylim(ymin, ymax)\n",
    "                plt.xlim(-1, n_vis)\n",
    "    plt.show()"
   ]
  },
  {
   "cell_type": "markdown",
   "metadata": {},
   "source": [
    "# 5. Visualize Gain, Base (diff)"
   ]
  },
  {
   "cell_type": "code",
   "execution_count": null,
   "metadata": {},
   "outputs": [],
   "source": [
    "# gain/base barplot\n",
    "def barplot_gain_base(gain_subj, base_subj, indx):\n",
    "    \n",
    "    # === index define\n",
    "    danI = dxn_LR_indx[indx:indx+n_dxn]\n",
    "    fig = plt.figure(figsize=(8,3))\n",
    "    \n",
    "    # condition difference\n",
    "    gain_diff = gain_subj['corrAtten']-gain_subj['corrRest']\n",
    "    base_diff = base_subj['corrAtten']-base_subj['corrRest']\n",
    "    \n",
    "    #========= GAIN/BASE : barplot ==========#\n",
    "    for f in range(len(fit_param)): # gain/base\n",
    "        plt.subplot(1,2,f+1); plt.title(fit_param[f])#'Gain')\n",
    "        if f==0: fit_diff = gain_diff[ :,danI]# Gain\n",
    "        elif f==1: fit_diff = base_diff[ :,danI]# Base\n",
    "        plt.bar(np.arange(n_dxn), np.mean(fit_diff, axis=0),\\\n",
    "                yerr = sem(fit_diff), capsize=3, color='grey', width = 0.5); \n",
    "        plt.axhline(0, color='black', linestyle = '--', linewidth = 0.3)\n",
    "        plt.ylim(-0.15, 0.15)\n",
    "plt.show()"
   ]
  },
  {
   "cell_type": "markdown",
   "metadata": {},
   "source": [
    "# Main analysis "
   ]
  },
  {
   "cell_type": "code",
   "execution_count": null,
   "metadata": {},
   "outputs": [],
   "source": [
    "# 1. load conn data\n",
    "conn_group = load_data_group(dir_connectivity, filetype)"
   ]
  },
  {
   "cell_type": "code",
   "execution_count": null,
   "metadata": {},
   "outputs": [],
   "source": [
    "# 2. Extract DATA \n",
    "# X: visual area hierarchy, Y: connectivity DAN(DMN) - VIS\n",
    "data_combined = data_reorg_LR_comb(conn_group)\n",
    "Y = data_dxn_only(data_combined)\n",
    "X = pd.DataFrame(x)"
   ]
  },
  {
   "cell_type": "code",
   "execution_count": null,
   "metadata": {},
   "outputs": [],
   "source": [
    "# 3. linear regression\n",
    "linear_result = linear_regression(X, Y, DXN_Name)"
   ]
  },
  {
   "cell_type": "code",
   "execution_count": null,
   "metadata": {},
   "outputs": [],
   "source": [
    "# 3.1. combine L+R linear regression\n",
    "gain, base = combine_linear_regress(linear_result)"
   ]
  },
  {
   "cell_type": "code",
   "execution_count": null,
   "metadata": {},
   "outputs": [],
   "source": [
    "# 4. Visualize linear fit (DAN-VIS) & 5. Gain-Base\n",
    "[mean_y_DAN, sem_y_DAN, fit_DAN ] = plt_linear_fit(x, linear_result, 0, 'DAN_VIS_LinearFit.eps')\n",
    "# fig.savefig('DAN_VIS_LinearFit.eps', rasterized = True)\n",
    "barplot_gain_base(gain, base, 0)\n",
    "# plt.savefig('DAN_VIS_GainBase.eps', format = 'eps', dpi=1000)"
   ]
  },
  {
   "cell_type": "code",
   "execution_count": null,
   "metadata": {},
   "outputs": [],
   "source": [
    "plt_mean_ci(x, Y, fit_DAN, mean_y_DAN, sem_y_DAN, 0, 'DAN_VIS_LinearFit.eps')"
   ]
  },
  {
   "cell_type": "code",
   "execution_count": null,
   "metadata": {},
   "outputs": [],
   "source": [
    "# DMN-VIS\n",
    "[mean_y_DMN, sem_y_DMN, fit_DMN ] = plt_linear_fit(x, linear_result, n_dxn, 'DMN_VIS_LinearFit.eps')\n",
    "barplot_gain_base(gain, base, n_dxn)\n",
    "# plt.savefig('DMN_VIS_GainBase.eps', format = 'eps', dpi=1000)"
   ]
  },
  {
   "cell_type": "code",
   "execution_count": null,
   "metadata": {},
   "outputs": [],
   "source": [
    "plt_mean_ci(x, Y, fit_DMN, mean_y_DMN, sem_y_DMN, n_dxn, 'DMN_VIS_LinearFit.eps')"
   ]
  },
  {
   "cell_type": "code",
   "execution_count": null,
   "metadata": {},
   "outputs": [],
   "source": []
  }
 ],
 "metadata": {
  "kernelspec": {
   "display_name": "Python 2",
   "language": "python",
   "name": "python2"
  },
  "language_info": {
   "codemirror_mode": {
    "name": "ipython",
    "version": 2
   },
   "file_extension": ".py",
   "mimetype": "text/x-python",
   "name": "python",
   "nbconvert_exporter": "python",
   "pygments_lexer": "ipython2",
   "version": "2.7.15"
  }
 },
 "nbformat": 4,
 "nbformat_minor": 2
}
