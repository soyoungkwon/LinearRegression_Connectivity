{
 "cells": [
  {
   "cell_type": "code",
   "execution_count": 1,
   "metadata": {},
   "outputs": [],
   "source": [
    "# try python2\n",
    "import pandas as pd\n",
    "import scipy \n",
    "import numpy as np\n",
    "import scipy.io as sio\n",
    "import os\n",
    "import fnmatch, re\n",
    "import glob\n",
    "import matplotlib.pyplot as plt"
   ]
  },
  {
   "cell_type": "markdown",
   "metadata": {},
   "source": [
    "# Data analysis order\n",
    "1. Load all the data (connectivity during attention and resting) : connAtten, connRest\n",
    "2. Extract only necessary part of the data and reorganize it\n",
    " (connectivity between DAN-VIS, DMN-VIS)\n",
    "3. Linear regression fit : gain, base will be obtained\n",
    "4. Visualize the Linear Regression plot\n",
    "5. Visualize the Gain, Base (as a bar plot)"
   ]
  },
  {
   "cell_type": "markdown",
   "metadata": {},
   "source": [
    "# Define Basic"
   ]
  },
  {
   "cell_type": "code",
   "execution_count": 2,
   "metadata": {},
   "outputs": [],
   "source": [
    "# Define basie parameters\n",
    "n_roi = 24; n_subj = 20\n",
    "\n",
    "# Directory setup\n",
    "dir_main = '/Users/soyoung/Atten_Conn/'\n",
    "dir_connectivity = dir_main + \"/01_DataConnectivity/\"\n",
    "# dir_main = \"/Volumes/SoyoungBackup/Mac_HD3/Atten_Motion_OnOff/05_ROI_Connectivity/\"\n",
    "# dir_connectivity = dir_main + \"/26_ROI_Conn_Subj/\""
   ]
  },
  {
   "cell_type": "markdown",
   "metadata": {},
   "source": [
    "# 1. Load all the data"
   ]
  },
  {
   "cell_type": "code",
   "execution_count": 5,
   "metadata": {},
   "outputs": [],
   "source": [
    "# Load all file list\n",
    "filetype = \"Conn_rand32_craf_regMotionWM_highnone_low0_P_shift20_regMeanSubjVox_sub\"\n",
    "file_contain = filetype + \"*[!wrong][!retino].mat\"\n",
    "conn_list = [f for f in glob.glob(dir_connectivity + file_contain)]"
   ]
  },
  {
   "cell_type": "code",
   "execution_count": 6,
   "metadata": {},
   "outputs": [],
   "source": [
    "# Predefine group data and assign it\n",
    "conn_atten_group = np.zeros([n_roi, n_roi, n_subj])\n",
    "conn_rest_group = np.zeros([n_roi, n_roi, n_subj])\n",
    "for s in range(n_subj):\n",
    "    conn_subj = sio.loadmat(conn_list[s])\n",
    "    conn_atten_group[:,:,s] = np.mean(conn_subj['corrAtten'], axis = 2)\n",
    "    conn_rest_group[:,:,s]  = np.mean(conn_subj['corrRest'], axis = 2)"
   ]
  },
  {
   "cell_type": "code",
   "execution_count": 7,
   "metadata": {},
   "outputs": [
    {
     "data": {
      "image/png": "[encoded data removed]",
      "text/plain": [
       "<matplotlib.figure.Figure at 0x11e322110>"
      ]
     },
     "metadata": {
      "needs_background": "light"
     },
     "output_type": "display_data"
    }
   ],
   "source": [
    "# test plot\n",
    "imgplot = plt.imshow(conn_atten_group[:,:,0])\n",
    "imgplot.set_cmap('jet')"
   ]
  },
  {
   "cell_type": "markdown",
   "metadata": {},
   "source": [
    "# 2. Extract & reorganize data\n",
    "1. Extract Left, Right Data => L-L, L-R, R-R, R-L\n",
    "2. Extract DAN-VIS, DMN-VIS"
   ]
  },
  {
   "cell_type": "code",
   "execution_count": 7,
   "metadata": {},
   "outputs": [
    {
     "data": {
      "text/plain": [
       "(24, 24, 20)"
      ]
     },
     "execution_count": 7,
     "metadata": {},
     "output_type": "execute_result"
    }
   ],
   "source": [
    "# Extract L/R data\n",
    "odd\n",
    "conn_atten_group_LL = conn"
   ]
  },
  {
   "cell_type": "code",
   "execution_count": null,
   "metadata": {},
   "outputs": [],
   "source": []
  }
 ],
 "metadata": {
  "kernelspec": {
   "display_name": "Python 2",
   "language": "python",
   "name": "python2"
  },
  "language_info": {
   "codemirror_mode": {
    "name": "ipython",
    "version": 2
   },
   "file_extension": ".py",
   "mimetype": "text/x-python",
   "name": "python",
   "nbconvert_exporter": "python",
   "pygments_lexer": "ipython2",
   "version": "2.7.14"
  }
 },
 "nbformat": 4,
 "nbformat_minor": 2
}
